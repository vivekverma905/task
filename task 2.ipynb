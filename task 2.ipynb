{
 "cells": [
  {
   "cell_type": "markdown",
   "id": "d458adbf-1995-45d8-a5a6-53cf99841c86",
   "metadata": {},
   "source": [
    "Question 1"
   ]
  },
  {
   "cell_type": "code",
   "execution_count": 14,
   "id": "7092cff2-54d1-4f55-8b23-1ad48c2a4cd0",
   "metadata": {},
   "outputs": [],
   "source": [
    "def check_password(password):\n",
    "    lower_count = 0\n",
    "    upper_count = 0\n",
    "    num_count = 0\n",
    "    special_count = 0\n",
    "\n",
    "    for char in password:\n",
    "        if char.islower():\n",
    "            lower_count += 1\n",
    "        elif char.isupper():\n",
    "            upper_count += 1\n",
    "        elif char.isdigit():\n",
    "            num_count += 1\n",
    "        else:\n",
    "            special_count += 1\n",
    "\n",
    "    if len(password) == 10 and lower_count >= 2 and upper_count >= 2 and num_count >= 1 and special_count >= 3:\n",
    "        return \"Valid Password\"\n",
    "    else:\n",
    "        return \"Invalid Password\"\n"
   ]
  },
  {
   "cell_type": "markdown",
   "id": "31ad1341-bba6-42b5-86f0-9fb454b86f9e",
   "metadata": {},
   "source": [
    "Question 2"
   ]
  },
  {
   "cell_type": "code",
   "execution_count": 15,
   "id": "4249a5ba-ae32-465c-b8da-eb8378d80146",
   "metadata": {},
   "outputs": [],
   "source": [
    "#1\n",
    "def starts_with(string, letter):\n",
    "    return True if string[0] == letter else False\n",
    "\n",
    "starts_with = lambda string, letter: True if string[0] == letter else False\n"
   ]
  },
  {
   "cell_type": "code",
   "execution_count": 27,
   "id": "59c744cd-2da5-4da0-93ca-835572a5107a",
   "metadata": {},
   "outputs": [
    {
     "data": {
      "text/plain": [
       "<function __main__.<lambda>(string)>"
      ]
     },
     "execution_count": 27,
     "metadata": {},
     "output_type": "execute_result"
    }
   ],
   "source": [
    "#2.\n",
    "def is_numeric(string):\n",
    "    return string.isnumeric()\n",
    "lambda string: string.isnumeric()\n"
   ]
  },
  {
   "cell_type": "code",
   "execution_count": 26,
   "id": "b0f961df-0302-4761-91f4-0b094c5883b9",
   "metadata": {},
   "outputs": [
    {
     "data": {
      "text/plain": [
       "[('orange', 80), ('mango', 99), ('grapes', 1000)]"
      ]
     },
     "execution_count": 26,
     "metadata": {},
     "output_type": "execute_result"
    }
   ],
   "source": [
    "#3.\n",
    "fruits = [(\"mango\", 99), (\"orange\", 80), (\"grapes\", 1000)]\n",
    "sorted(fruits, key=lambda x: x[1])\n"
   ]
  },
  {
   "cell_type": "code",
   "execution_count": 25,
   "id": "ad26a9c8-fb98-46e2-9fb5-912b73dfc16f",
   "metadata": {},
   "outputs": [
    {
     "data": {
      "text/plain": [
       "[1, 4, 9, 16, 25, 36, 49, 64, 81, 100]"
      ]
     },
     "execution_count": 25,
     "metadata": {},
     "output_type": "execute_result"
    }
   ],
   "source": [
    "#4\n",
    "\n",
    "list(map(lambda x: x**2, range(1, 11)))\n"
   ]
  },
  {
   "cell_type": "code",
   "execution_count": 28,
   "id": "57ae193f-2654-422c-ab9d-b985265d0f35",
   "metadata": {},
   "outputs": [
    {
     "data": {
      "text/plain": [
       "[1, 8, 27, 64, 125, 216, 343, 512, 729, 1000]"
      ]
     },
     "execution_count": 28,
     "metadata": {},
     "output_type": "execute_result"
    }
   ],
   "source": [
    "#5.\n",
    "\n",
    "list(map(lambda x: x**3, range(1, 11)))\n",
    "\n"
   ]
  },
  {
   "cell_type": "code",
   "execution_count": 44,
   "id": "ae2299b6-75b4-4277-a5a0-26b9d341800e",
   "metadata": {},
   "outputs": [],
   "source": [
    "#6.\n",
    "def is_even(number):\n",
    "    return True if number % 2 == 0 else False\n",
    "\n",
    "is_even = lambda number: True if number % 2 == 0 else False\n"
   ]
  },
  {
   "cell_type": "code",
   "execution_count": 47,
   "id": "c21b7ddb-56a4-4b89-8647-3a1f8e97d8c5",
   "metadata": {},
   "outputs": [],
   "source": [
    "#7\n",
    "l= [1, 2, 3, 4, 5, 6, 7, 8, 9, 10]\n",
    "\n",
    "odd_numbers = list(filter(lambda x: x % 2 != 0, l))\n"
   ]
  },
  {
   "cell_type": "code",
   "execution_count": null,
   "id": "fffe45b3-52c4-4449-9464-f1fccebccc75",
   "metadata": {},
   "outputs": [],
   "source": [
    "#8\n"
   ]
  }
 ],
 "metadata": {
  "kernelspec": {
   "display_name": "Python 3 (ipykernel)",
   "language": "python",
   "name": "python3"
  },
  "language_info": {
   "codemirror_mode": {
    "name": "ipython",
    "version": 3
   },
   "file_extension": ".py",
   "mimetype": "text/x-python",
   "name": "python",
   "nbconvert_exporter": "python",
   "pygments_lexer": "ipython3",
   "version": "3.10.6"
  }
 },
 "nbformat": 4,
 "nbformat_minor": 5
}
