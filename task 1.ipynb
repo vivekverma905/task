{
 "cells": [
  {
   "cell_type": "code",
   "execution_count": 1,
   "id": "79c7d63c-8736-43c2-9b07-a806f4b83583",
   "metadata": {},
   "outputs": [],
   "source": [
    "list1= [1,2,3,4,[44,55,66,True],False,(34,56,78,89,34),{1,2,3,3,2,1},{1:34,\"key2\":[55,67,78,89],4:(45,22,61,34)},[56,'data science'],'machine learning']"
   ]
  },
  {
   "cell_type": "code",
   "execution_count": 2,
   "id": "9c6860ca-3d9c-4af1-92bd-712bf7f83aa8",
   "metadata": {},
   "outputs": [
    {
     "data": {
      "text/plain": [
       "[1,\n",
       " 2,\n",
       " 3,\n",
       " 4,\n",
       " [44, 55, 66, True],\n",
       " False,\n",
       " (34, 56, 78, 89, 34),\n",
       " {1, 2, 3},\n",
       " {1: 34, 'key2': [55, 67, 78, 89], 4: (45, 22, 61, 34)},\n",
       " [56, 'data science'],\n",
       " 'machine learning']"
      ]
     },
     "execution_count": 2,
     "metadata": {},
     "output_type": "execute_result"
    }
   ],
   "source": [
    "list1"
   ]
  },
  {
   "cell_type": "code",
   "execution_count": 5,
   "id": "de048ebd-4b9a-4f9f-b329-36e88cd4c162",
   "metadata": {},
   "outputs": [
    {
     "name": "stdout",
     "output_type": "stream",
     "text": [
      "0\n"
     ]
    }
   ],
   "source": [
    "from typing import Union\n",
    "\n",
    "def numbers(lst: list) -> int:\n",
    "    result = 1\n",
    "    for item in lst:\n",
    "        if isinstance(item, int):\n",
    "            result *= item\n",
    "        elif isinstance(item, float):\n",
    "            result *= item\n",
    "        elif isinstance(item, list) or isinstance(item, tuple):\n",
    "            result *= numbers(item)\n",
    "        elif isinstance(item, dict):\n",
    "            for key, value in item.items():\n",
    "                if isinstance(key, int) or isinstance(key, float):\n",
    "                    result *= key\n",
    "                if isinstance(value, int) or isinstance(value, float):\n",
    "                    result *= value\n",
    "                elif isinstance(value, list) or isinstance(value, tuple) or isinstance(value, dict):\n",
    "                    result *= numbers(value)\n",
    "    return result\n",
    "print(numbers(list1))\n"
   ]
  },
  {
   "cell_type": "code",
   "execution_count": 7,
   "id": "4cb7f477-f61b-4e63-8aaf-182d4e5ce29b",
   "metadata": {},
   "outputs": [
    {
     "ename": "IndentationError",
     "evalue": "unexpected indent (2239870646.py, line 7)",
     "output_type": "error",
     "traceback": [
      "\u001b[0;36m  Cell \u001b[0;32mIn[7], line 7\u001b[0;36m\u001b[0m\n\u001b[0;31m    message += encrypted_char\u001b[0m\n\u001b[0m    ^\u001b[0m\n\u001b[0;31mIndentationError\u001b[0m\u001b[0;31m:\u001b[0m unexpected indent\n"
     ]
    }
   ],
   "source": [
    "def message(message: str) -> str:\n",
    "    message = \"\"\n",
    "    message = message.lower()\n",
    "    for char in message:\n",
    "        if char.isalpha():\n",
    "            encrypted_char = chr(122 - ord(char) + 97)\n",
    "             message += encrypted_char\n",
    "        elif char.isspace():\n",
    "            message += \"$\"\n",
    "        else:\n",
    "            encrypted_message += char\n",
    "    return message\n",
    "\n",
    "input_sentence = \"I want to become a Data Scientist.\"\n",
    "print(message(input_sentence))\n"
   ]
  },
  {
   "cell_type": "code",
   "execution_count": null,
   "id": "250111ea-ff03-46c1-b1b8-9f9db92c297f",
   "metadata": {},
   "outputs": [],
   "source": []
  }
 ],
 "metadata": {
  "kernelspec": {
   "display_name": "Python 3 (ipykernel)",
   "language": "python",
   "name": "python3"
  },
  "language_info": {
   "codemirror_mode": {
    "name": "ipython",
    "version": 3
   },
   "file_extension": ".py",
   "mimetype": "text/x-python",
   "name": "python",
   "nbconvert_exporter": "python",
   "pygments_lexer": "ipython3",
   "version": "3.10.8"
  }
 },
 "nbformat": 4,
 "nbformat_minor": 5
}
